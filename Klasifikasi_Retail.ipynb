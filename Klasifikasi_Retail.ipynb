{
  "nbformat": 4,
  "nbformat_minor": 0,
  "metadata": {
    "colab": {
      "provenance": []
    },
    "kernelspec": {
      "name": "python3",
      "display_name": "Python 3"
    },
    "language_info": {
      "name": "python"
    }
  },
  "cells": [
    {
      "cell_type": "markdown",
      "source": [
        "# Penerapan Algoritma Machine Learning Klasifikasi\n",
        "- **Nama:** Muhamad Fajri Permana Haryanto\n",
        "- **Email:** muhamadfajri2804@gmail.com\n",
        "- **ID Dicoding:** mijimo\n",
        "\n"
      ],
      "metadata": {
        "id": "cH5trQ2j2KEj"
      }
    },
    {
      "cell_type": "markdown",
      "source": [
        "# **1. Import Library**"
      ],
      "metadata": {
        "id": "0npaXgrk2PU1"
      }
    },
    {
      "cell_type": "markdown",
      "source": [
        "Beberapa pustaka (library) Python yang dibutuhkan untuk analisis data dan pembangunan model machine learning ini."
      ],
      "metadata": {
        "id": "BGX6zBMP3w0K"
      }
    },
    {
      "cell_type": "code",
      "source": [
        "import pandas as pd\n",
        "import numpy as np\n",
        "import seaborn as sns\n",
        "import matplotlib.pyplot as plt\n",
        "from sklearn.preprocessing import LabelEncoder\n",
        "from sklearn.model_selection import train_test_split\n",
        "from sklearn.ensemble import RandomForestClassifier\n",
        "from sklearn.linear_model import LogisticRegression\n",
        "from sklearn.metrics import classification_report, accuracy_score\n",
        "from sklearn.metrics import f1_score, precision_score, recall_score\n",
        "from sklearn.metrics import confusion_matrix, ConfusionMatrixDisplay"
      ],
      "metadata": {
        "id": "R7XbWquY2OsY"
      },
      "execution_count": 1,
      "outputs": []
    },
    {
      "cell_type": "markdown",
      "source": [
        "# **2. Memuat Dataset dari Hasil Clustering**"
      ],
      "metadata": {
        "id": "p7hydqc92S0K"
      }
    },
    {
      "cell_type": "markdown",
      "source": [
        "Memuat dataset hasil clustering dari file hasil_clustering.CSV ke dalam variabel DataFrame."
      ],
      "metadata": {
        "id": "bCs3FZIw3jx9"
      }
    },
    {
      "cell_type": "code",
      "execution_count": 2,
      "metadata": {
        "colab": {
          "base_uri": "https://localhost:8080/",
          "height": 206
        },
        "id": "N6eh5Ku-1lLg",
        "outputId": "59613c58-25df-4e9a-c4b7-1567edb41a7e"
      },
      "outputs": [
        {
          "output_type": "execute_result",
          "data": {
            "text/plain": [
              "   Gender       Age  Quantity  Price per Unit  Total Amount  \\\n",
              "0       1 -0.520462  0.428438       -0.686091     -0.547352   \n",
              "1       0 -1.106092 -0.452617        1.675480      0.962352   \n",
              "2       1  0.650798 -1.333672       -0.791050     -0.760486   \n",
              "3       1 -0.300851 -1.333672        1.675480      0.074291   \n",
              "4       1 -0.813277 -0.452617       -0.686091     -0.636158   \n",
              "\n",
              "   Product Category_Beauty  Product Category_Clothing  \\\n",
              "0                     True                      False   \n",
              "1                    False                       True   \n",
              "2                    False                      False   \n",
              "3                    False                       True   \n",
              "4                     True                      False   \n",
              "\n",
              "   Product Category_Electronics Quantity_binned Total_Amount_binned  Cluster  \n",
              "0                         False             Low                 Low        2  \n",
              "1                         False             Low                High        0  \n",
              "2                          True             Low                 Low        3  \n",
              "3                         False             Low                 Low        3  \n",
              "4                         False             Low                 Low        1  "
            ],
            "text/html": [
              "\n",
              "  <div id=\"df-af0aa4d7-1317-40ce-945a-ce469fc16978\" class=\"colab-df-container\">\n",
              "    <div>\n",
              "<style scoped>\n",
              "    .dataframe tbody tr th:only-of-type {\n",
              "        vertical-align: middle;\n",
              "    }\n",
              "\n",
              "    .dataframe tbody tr th {\n",
              "        vertical-align: top;\n",
              "    }\n",
              "\n",
              "    .dataframe thead th {\n",
              "        text-align: right;\n",
              "    }\n",
              "</style>\n",
              "<table border=\"1\" class=\"dataframe\">\n",
              "  <thead>\n",
              "    <tr style=\"text-align: right;\">\n",
              "      <th></th>\n",
              "      <th>Gender</th>\n",
              "      <th>Age</th>\n",
              "      <th>Quantity</th>\n",
              "      <th>Price per Unit</th>\n",
              "      <th>Total Amount</th>\n",
              "      <th>Product Category_Beauty</th>\n",
              "      <th>Product Category_Clothing</th>\n",
              "      <th>Product Category_Electronics</th>\n",
              "      <th>Quantity_binned</th>\n",
              "      <th>Total_Amount_binned</th>\n",
              "      <th>Cluster</th>\n",
              "    </tr>\n",
              "  </thead>\n",
              "  <tbody>\n",
              "    <tr>\n",
              "      <th>0</th>\n",
              "      <td>1</td>\n",
              "      <td>-0.520462</td>\n",
              "      <td>0.428438</td>\n",
              "      <td>-0.686091</td>\n",
              "      <td>-0.547352</td>\n",
              "      <td>True</td>\n",
              "      <td>False</td>\n",
              "      <td>False</td>\n",
              "      <td>Low</td>\n",
              "      <td>Low</td>\n",
              "      <td>2</td>\n",
              "    </tr>\n",
              "    <tr>\n",
              "      <th>1</th>\n",
              "      <td>0</td>\n",
              "      <td>-1.106092</td>\n",
              "      <td>-0.452617</td>\n",
              "      <td>1.675480</td>\n",
              "      <td>0.962352</td>\n",
              "      <td>False</td>\n",
              "      <td>True</td>\n",
              "      <td>False</td>\n",
              "      <td>Low</td>\n",
              "      <td>High</td>\n",
              "      <td>0</td>\n",
              "    </tr>\n",
              "    <tr>\n",
              "      <th>2</th>\n",
              "      <td>1</td>\n",
              "      <td>0.650798</td>\n",
              "      <td>-1.333672</td>\n",
              "      <td>-0.791050</td>\n",
              "      <td>-0.760486</td>\n",
              "      <td>False</td>\n",
              "      <td>False</td>\n",
              "      <td>True</td>\n",
              "      <td>Low</td>\n",
              "      <td>Low</td>\n",
              "      <td>3</td>\n",
              "    </tr>\n",
              "    <tr>\n",
              "      <th>3</th>\n",
              "      <td>1</td>\n",
              "      <td>-0.300851</td>\n",
              "      <td>-1.333672</td>\n",
              "      <td>1.675480</td>\n",
              "      <td>0.074291</td>\n",
              "      <td>False</td>\n",
              "      <td>True</td>\n",
              "      <td>False</td>\n",
              "      <td>Low</td>\n",
              "      <td>Low</td>\n",
              "      <td>3</td>\n",
              "    </tr>\n",
              "    <tr>\n",
              "      <th>4</th>\n",
              "      <td>1</td>\n",
              "      <td>-0.813277</td>\n",
              "      <td>-0.452617</td>\n",
              "      <td>-0.686091</td>\n",
              "      <td>-0.636158</td>\n",
              "      <td>True</td>\n",
              "      <td>False</td>\n",
              "      <td>False</td>\n",
              "      <td>Low</td>\n",
              "      <td>Low</td>\n",
              "      <td>1</td>\n",
              "    </tr>\n",
              "  </tbody>\n",
              "</table>\n",
              "</div>\n",
              "    <div class=\"colab-df-buttons\">\n",
              "\n",
              "  <div class=\"colab-df-container\">\n",
              "    <button class=\"colab-df-convert\" onclick=\"convertToInteractive('df-af0aa4d7-1317-40ce-945a-ce469fc16978')\"\n",
              "            title=\"Convert this dataframe to an interactive table.\"\n",
              "            style=\"display:none;\">\n",
              "\n",
              "  <svg xmlns=\"http://www.w3.org/2000/svg\" height=\"24px\" viewBox=\"0 -960 960 960\">\n",
              "    <path d=\"M120-120v-720h720v720H120Zm60-500h600v-160H180v160Zm220 220h160v-160H400v160Zm0 220h160v-160H400v160ZM180-400h160v-160H180v160Zm440 0h160v-160H620v160ZM180-180h160v-160H180v160Zm440 0h160v-160H620v160Z\"/>\n",
              "  </svg>\n",
              "    </button>\n",
              "\n",
              "  <style>\n",
              "    .colab-df-container {\n",
              "      display:flex;\n",
              "      gap: 12px;\n",
              "    }\n",
              "\n",
              "    .colab-df-convert {\n",
              "      background-color: #E8F0FE;\n",
              "      border: none;\n",
              "      border-radius: 50%;\n",
              "      cursor: pointer;\n",
              "      display: none;\n",
              "      fill: #1967D2;\n",
              "      height: 32px;\n",
              "      padding: 0 0 0 0;\n",
              "      width: 32px;\n",
              "    }\n",
              "\n",
              "    .colab-df-convert:hover {\n",
              "      background-color: #E2EBFA;\n",
              "      box-shadow: 0px 1px 2px rgba(60, 64, 67, 0.3), 0px 1px 3px 1px rgba(60, 64, 67, 0.15);\n",
              "      fill: #174EA6;\n",
              "    }\n",
              "\n",
              "    .colab-df-buttons div {\n",
              "      margin-bottom: 4px;\n",
              "    }\n",
              "\n",
              "    [theme=dark] .colab-df-convert {\n",
              "      background-color: #3B4455;\n",
              "      fill: #D2E3FC;\n",
              "    }\n",
              "\n",
              "    [theme=dark] .colab-df-convert:hover {\n",
              "      background-color: #434B5C;\n",
              "      box-shadow: 0px 1px 3px 1px rgba(0, 0, 0, 0.15);\n",
              "      filter: drop-shadow(0px 1px 2px rgba(0, 0, 0, 0.3));\n",
              "      fill: #FFFFFF;\n",
              "    }\n",
              "  </style>\n",
              "\n",
              "    <script>\n",
              "      const buttonEl =\n",
              "        document.querySelector('#df-af0aa4d7-1317-40ce-945a-ce469fc16978 button.colab-df-convert');\n",
              "      buttonEl.style.display =\n",
              "        google.colab.kernel.accessAllowed ? 'block' : 'none';\n",
              "\n",
              "      async function convertToInteractive(key) {\n",
              "        const element = document.querySelector('#df-af0aa4d7-1317-40ce-945a-ce469fc16978');\n",
              "        const dataTable =\n",
              "          await google.colab.kernel.invokeFunction('convertToInteractive',\n",
              "                                                    [key], {});\n",
              "        if (!dataTable) return;\n",
              "\n",
              "        const docLinkHtml = 'Like what you see? Visit the ' +\n",
              "          '<a target=\"_blank\" href=https://colab.research.google.com/notebooks/data_table.ipynb>data table notebook</a>'\n",
              "          + ' to learn more about interactive tables.';\n",
              "        element.innerHTML = '';\n",
              "        dataTable['output_type'] = 'display_data';\n",
              "        await google.colab.output.renderOutput(dataTable, element);\n",
              "        const docLink = document.createElement('div');\n",
              "        docLink.innerHTML = docLinkHtml;\n",
              "        element.appendChild(docLink);\n",
              "      }\n",
              "    </script>\n",
              "  </div>\n",
              "\n",
              "\n",
              "<div id=\"df-b0dd3b4a-741e-4ff1-add1-cb941ec078f2\">\n",
              "  <button class=\"colab-df-quickchart\" onclick=\"quickchart('df-b0dd3b4a-741e-4ff1-add1-cb941ec078f2')\"\n",
              "            title=\"Suggest charts\"\n",
              "            style=\"display:none;\">\n",
              "\n",
              "<svg xmlns=\"http://www.w3.org/2000/svg\" height=\"24px\"viewBox=\"0 0 24 24\"\n",
              "     width=\"24px\">\n",
              "    <g>\n",
              "        <path d=\"M19 3H5c-1.1 0-2 .9-2 2v14c0 1.1.9 2 2 2h14c1.1 0 2-.9 2-2V5c0-1.1-.9-2-2-2zM9 17H7v-7h2v7zm4 0h-2V7h2v10zm4 0h-2v-4h2v4z\"/>\n",
              "    </g>\n",
              "</svg>\n",
              "  </button>\n",
              "\n",
              "<style>\n",
              "  .colab-df-quickchart {\n",
              "      --bg-color: #E8F0FE;\n",
              "      --fill-color: #1967D2;\n",
              "      --hover-bg-color: #E2EBFA;\n",
              "      --hover-fill-color: #174EA6;\n",
              "      --disabled-fill-color: #AAA;\n",
              "      --disabled-bg-color: #DDD;\n",
              "  }\n",
              "\n",
              "  [theme=dark] .colab-df-quickchart {\n",
              "      --bg-color: #3B4455;\n",
              "      --fill-color: #D2E3FC;\n",
              "      --hover-bg-color: #434B5C;\n",
              "      --hover-fill-color: #FFFFFF;\n",
              "      --disabled-bg-color: #3B4455;\n",
              "      --disabled-fill-color: #666;\n",
              "  }\n",
              "\n",
              "  .colab-df-quickchart {\n",
              "    background-color: var(--bg-color);\n",
              "    border: none;\n",
              "    border-radius: 50%;\n",
              "    cursor: pointer;\n",
              "    display: none;\n",
              "    fill: var(--fill-color);\n",
              "    height: 32px;\n",
              "    padding: 0;\n",
              "    width: 32px;\n",
              "  }\n",
              "\n",
              "  .colab-df-quickchart:hover {\n",
              "    background-color: var(--hover-bg-color);\n",
              "    box-shadow: 0 1px 2px rgba(60, 64, 67, 0.3), 0 1px 3px 1px rgba(60, 64, 67, 0.15);\n",
              "    fill: var(--button-hover-fill-color);\n",
              "  }\n",
              "\n",
              "  .colab-df-quickchart-complete:disabled,\n",
              "  .colab-df-quickchart-complete:disabled:hover {\n",
              "    background-color: var(--disabled-bg-color);\n",
              "    fill: var(--disabled-fill-color);\n",
              "    box-shadow: none;\n",
              "  }\n",
              "\n",
              "  .colab-df-spinner {\n",
              "    border: 2px solid var(--fill-color);\n",
              "    border-color: transparent;\n",
              "    border-bottom-color: var(--fill-color);\n",
              "    animation:\n",
              "      spin 1s steps(1) infinite;\n",
              "  }\n",
              "\n",
              "  @keyframes spin {\n",
              "    0% {\n",
              "      border-color: transparent;\n",
              "      border-bottom-color: var(--fill-color);\n",
              "      border-left-color: var(--fill-color);\n",
              "    }\n",
              "    20% {\n",
              "      border-color: transparent;\n",
              "      border-left-color: var(--fill-color);\n",
              "      border-top-color: var(--fill-color);\n",
              "    }\n",
              "    30% {\n",
              "      border-color: transparent;\n",
              "      border-left-color: var(--fill-color);\n",
              "      border-top-color: var(--fill-color);\n",
              "      border-right-color: var(--fill-color);\n",
              "    }\n",
              "    40% {\n",
              "      border-color: transparent;\n",
              "      border-right-color: var(--fill-color);\n",
              "      border-top-color: var(--fill-color);\n",
              "    }\n",
              "    60% {\n",
              "      border-color: transparent;\n",
              "      border-right-color: var(--fill-color);\n",
              "    }\n",
              "    80% {\n",
              "      border-color: transparent;\n",
              "      border-right-color: var(--fill-color);\n",
              "      border-bottom-color: var(--fill-color);\n",
              "    }\n",
              "    90% {\n",
              "      border-color: transparent;\n",
              "      border-bottom-color: var(--fill-color);\n",
              "    }\n",
              "  }\n",
              "</style>\n",
              "\n",
              "  <script>\n",
              "    async function quickchart(key) {\n",
              "      const quickchartButtonEl =\n",
              "        document.querySelector('#' + key + ' button');\n",
              "      quickchartButtonEl.disabled = true;  // To prevent multiple clicks.\n",
              "      quickchartButtonEl.classList.add('colab-df-spinner');\n",
              "      try {\n",
              "        const charts = await google.colab.kernel.invokeFunction(\n",
              "            'suggestCharts', [key], {});\n",
              "      } catch (error) {\n",
              "        console.error('Error during call to suggestCharts:', error);\n",
              "      }\n",
              "      quickchartButtonEl.classList.remove('colab-df-spinner');\n",
              "      quickchartButtonEl.classList.add('colab-df-quickchart-complete');\n",
              "    }\n",
              "    (() => {\n",
              "      let quickchartButtonEl =\n",
              "        document.querySelector('#df-b0dd3b4a-741e-4ff1-add1-cb941ec078f2 button');\n",
              "      quickchartButtonEl.style.display =\n",
              "        google.colab.kernel.accessAllowed ? 'block' : 'none';\n",
              "    })();\n",
              "  </script>\n",
              "</div>\n",
              "\n",
              "    </div>\n",
              "  </div>\n"
            ],
            "application/vnd.google.colaboratory.intrinsic+json": {
              "type": "dataframe",
              "variable_name": "retail_df",
              "summary": "{\n  \"name\": \"retail_df\",\n  \"rows\": 911,\n  \"fields\": [\n    {\n      \"column\": \"Gender\",\n      \"properties\": {\n        \"dtype\": \"number\",\n        \"std\": 0,\n        \"min\": 0,\n        \"max\": 1,\n        \"num_unique_values\": 2,\n        \"samples\": [\n          0,\n          1\n        ],\n        \"semantic_type\": \"\",\n        \"description\": \"\"\n      }\n    },\n    {\n      \"column\": \"Age\",\n      \"properties\": {\n        \"dtype\": \"number\",\n        \"std\": 1.0005492996843797,\n        \"min\": -1.6917221456128682,\n        \"max\": 1.6756510664734312,\n        \"num_unique_values\": 47,\n        \"samples\": [\n          0.5043908187912401,\n          1.4560397700330203\n        ],\n        \"semantic_type\": \"\",\n        \"description\": \"\"\n      }\n    },\n    {\n      \"column\": \"Quantity\",\n      \"properties\": {\n        \"dtype\": \"number\",\n        \"std\": 1.0005492996843788,\n        \"min\": -1.333671922376527,\n        \"max\": 1.3094936786786202,\n        \"num_unique_values\": 4,\n        \"samples\": [\n          -0.4526167220248112,\n          1.3094936786786202\n        ],\n        \"semantic_type\": \"\",\n        \"description\": \"\"\n      }\n    },\n    {\n      \"column\": \"Price per Unit\",\n      \"properties\": {\n        \"dtype\": \"number\",\n        \"std\": 1.0005492996843823,\n        \"min\": -0.8172897125256794,\n        \"max\": 1.6754799146297363,\n        \"num_unique_values\": 5,\n        \"samples\": [\n          1.6754799146297363,\n          0.6258927031958772\n        ],\n        \"semantic_type\": \"\",\n        \"description\": \"\"\n      }\n    },\n    {\n      \"column\": \"Total Amount\",\n      \"properties\": {\n        \"dtype\": \"number\",\n        \"std\": 1.0005492996843803,\n        \"min\": -0.7693669771204911,\n        \"max\": 2.7384742357162017,\n        \"num_unique_values\": 18,\n        \"samples\": [\n          -0.5473517104852573,\n          0.962352102634332\n        ],\n        \"semantic_type\": \"\",\n        \"description\": \"\"\n      }\n    },\n    {\n      \"column\": \"Product Category_Beauty\",\n      \"properties\": {\n        \"dtype\": \"boolean\",\n        \"num_unique_values\": 2,\n        \"samples\": [\n          false,\n          true\n        ],\n        \"semantic_type\": \"\",\n        \"description\": \"\"\n      }\n    },\n    {\n      \"column\": \"Product Category_Clothing\",\n      \"properties\": {\n        \"dtype\": \"boolean\",\n        \"num_unique_values\": 2,\n        \"samples\": [\n          true,\n          false\n        ],\n        \"semantic_type\": \"\",\n        \"description\": \"\"\n      }\n    },\n    {\n      \"column\": \"Product Category_Electronics\",\n      \"properties\": {\n        \"dtype\": \"boolean\",\n        \"num_unique_values\": 2,\n        \"samples\": [\n          true,\n          false\n        ],\n        \"semantic_type\": \"\",\n        \"description\": \"\"\n      }\n    },\n    {\n      \"column\": \"Quantity_binned\",\n      \"properties\": {\n        \"dtype\": \"category\",\n        \"num_unique_values\": 2,\n        \"samples\": [\n          \"High\",\n          \"Low\"\n        ],\n        \"semantic_type\": \"\",\n        \"description\": \"\"\n      }\n    },\n    {\n      \"column\": \"Total_Amount_binned\",\n      \"properties\": {\n        \"dtype\": \"category\",\n        \"num_unique_values\": 2,\n        \"samples\": [\n          \"High\",\n          \"Low\"\n        ],\n        \"semantic_type\": \"\",\n        \"description\": \"\"\n      }\n    },\n    {\n      \"column\": \"Cluster\",\n      \"properties\": {\n        \"dtype\": \"number\",\n        \"std\": 1,\n        \"min\": 0,\n        \"max\": 3,\n        \"num_unique_values\": 4,\n        \"samples\": [\n          0,\n          1\n        ],\n        \"semantic_type\": \"\",\n        \"description\": \"\"\n      }\n    }\n  ]\n}"
            }
          },
          "metadata": {},
          "execution_count": 2
        }
      ],
      "source": [
        "retail_df = pd.read_csv(\"/content/drive/MyDrive/dataset/hasil_clustering.csv\")\n",
        "retail_df.head()"
      ]
    },
    {
      "cell_type": "code",
      "source": [
        "retail_df.info()"
      ],
      "metadata": {
        "colab": {
          "base_uri": "https://localhost:8080/"
        },
        "id": "lTFDGSli5IF9",
        "outputId": "e29accfa-cc75-4c79-eb30-860a1ecfd715"
      },
      "execution_count": 3,
      "outputs": [
        {
          "output_type": "stream",
          "name": "stdout",
          "text": [
            "<class 'pandas.core.frame.DataFrame'>\n",
            "RangeIndex: 911 entries, 0 to 910\n",
            "Data columns (total 11 columns):\n",
            " #   Column                        Non-Null Count  Dtype  \n",
            "---  ------                        --------------  -----  \n",
            " 0   Gender                        911 non-null    int64  \n",
            " 1   Age                           911 non-null    float64\n",
            " 2   Quantity                      911 non-null    float64\n",
            " 3   Price per Unit                911 non-null    float64\n",
            " 4   Total Amount                  911 non-null    float64\n",
            " 5   Product Category_Beauty       911 non-null    bool   \n",
            " 6   Product Category_Clothing     911 non-null    bool   \n",
            " 7   Product Category_Electronics  911 non-null    bool   \n",
            " 8   Quantity_binned               911 non-null    object \n",
            " 9   Total_Amount_binned           911 non-null    object \n",
            " 10  Cluster                       911 non-null    int64  \n",
            "dtypes: bool(3), float64(4), int64(2), object(2)\n",
            "memory usage: 59.7+ KB\n"
          ]
        }
      ]
    },
    {
      "cell_type": "markdown",
      "source": [
        "# **3. Data Splitting**"
      ],
      "metadata": {
        "id": "gOCf5xgA35I2"
      }
    },
    {
      "cell_type": "markdown",
      "source": [
        "Tahap Data Splitting bertujuan untuk memisahkan dataset menjadi dua bagian: data latih (training set) dan data uji (test set). Untuk itu diambil keputusan 80% data untuk training set dan 20% data untuk test set, untuk data yang digunakannya dilakukan secara acak (random split) untuk memastikan bahwa data yang digunakan untuk training dan testing tidak memiliki bias."
      ],
      "metadata": {
        "id": "5EIFMTil4UHj"
      }
    },
    {
      "cell_type": "code",
      "source": [
        "label_encoder = LabelEncoder()\n",
        "categorical_columns = ['Quantity_binned', 'Total_Amount_binned']\n",
        "for col in categorical_columns:\n",
        "    retail_df[col] = label_encoder.fit_transform(retail_df[col])\n",
        "\n",
        "X = retail_df.drop(columns=['Cluster'])\n",
        "y = retail_df['Cluster']\n",
        "\n",
        "from sklearn.model_selection import train_test_split\n",
        "X_train, X_test, y_train, y_test = train_test_split(X, y, test_size=0.2, random_state=42)"
      ],
      "metadata": {
        "id": "aB6JYbf534Lg"
      },
      "execution_count": 4,
      "outputs": []
    },
    {
      "cell_type": "markdown",
      "source": [
        "**One-Hot Encoding untuk kolom kategorikal**"
      ],
      "metadata": {
        "id": "1bf_zKsDNeGu"
      }
    },
    {
      "cell_type": "code",
      "source": [
        "X = pd.get_dummies(retail_df.drop(columns=['Cluster']), drop_first=True)\n",
        "y = retail_df['Cluster']\n",
        "\n",
        "from sklearn.model_selection import train_test_split\n",
        "X_train, X_test, y_train, y_test = train_test_split(X, y, test_size=0.2, random_state=42)"
      ],
      "metadata": {
        "id": "7JkYUq6V97zm"
      },
      "execution_count": 5,
      "outputs": []
    },
    {
      "cell_type": "markdown",
      "source": [
        "## **a.Mengecek distribusi target pada training set**"
      ],
      "metadata": {
        "id": "SUeOZCuG6b7f"
      }
    },
    {
      "cell_type": "code",
      "source": [
        "train_distribution = y_train.value_counts()\n",
        "print(\"Distribusi Target pada Training Set:\")\n",
        "train_distribution"
      ],
      "metadata": {
        "colab": {
          "base_uri": "https://localhost:8080/",
          "height": 259
        },
        "id": "rcEsujVe6YQR",
        "outputId": "2565347a-ea4a-4cb5-c3a3-9849db2490e3"
      },
      "execution_count": 6,
      "outputs": [
        {
          "output_type": "stream",
          "name": "stdout",
          "text": [
            "Distribusi Target pada Training Set:\n"
          ]
        },
        {
          "output_type": "execute_result",
          "data": {
            "text/plain": [
              "Cluster\n",
              "2    219\n",
              "0    189\n",
              "3    182\n",
              "1    138\n",
              "Name: count, dtype: int64"
            ],
            "text/html": [
              "<div>\n",
              "<style scoped>\n",
              "    .dataframe tbody tr th:only-of-type {\n",
              "        vertical-align: middle;\n",
              "    }\n",
              "\n",
              "    .dataframe tbody tr th {\n",
              "        vertical-align: top;\n",
              "    }\n",
              "\n",
              "    .dataframe thead th {\n",
              "        text-align: right;\n",
              "    }\n",
              "</style>\n",
              "<table border=\"1\" class=\"dataframe\">\n",
              "  <thead>\n",
              "    <tr style=\"text-align: right;\">\n",
              "      <th></th>\n",
              "      <th>count</th>\n",
              "    </tr>\n",
              "    <tr>\n",
              "      <th>Cluster</th>\n",
              "      <th></th>\n",
              "    </tr>\n",
              "  </thead>\n",
              "  <tbody>\n",
              "    <tr>\n",
              "      <th>2</th>\n",
              "      <td>219</td>\n",
              "    </tr>\n",
              "    <tr>\n",
              "      <th>0</th>\n",
              "      <td>189</td>\n",
              "    </tr>\n",
              "    <tr>\n",
              "      <th>3</th>\n",
              "      <td>182</td>\n",
              "    </tr>\n",
              "    <tr>\n",
              "      <th>1</th>\n",
              "      <td>138</td>\n",
              "    </tr>\n",
              "  </tbody>\n",
              "</table>\n",
              "</div><br><label><b>dtype:</b> int64</label>"
            ]
          },
          "metadata": {},
          "execution_count": 6
        }
      ]
    },
    {
      "cell_type": "markdown",
      "source": [
        "## **b.Mengecek distribusi target pada test set**\n"
      ],
      "metadata": {
        "id": "7c7YB55U6h6A"
      }
    },
    {
      "cell_type": "code",
      "source": [
        "test_distribution = y_test.value_counts()\n",
        "print(\"\\nDistribusi Target pada Test Set:\")\n",
        "test_distribution"
      ],
      "metadata": {
        "colab": {
          "base_uri": "https://localhost:8080/",
          "height": 276
        },
        "id": "OXRlTlZI6kGH",
        "outputId": "38ec47a3-01ba-4d41-9a1a-3acfc507ecf9"
      },
      "execution_count": 7,
      "outputs": [
        {
          "output_type": "stream",
          "name": "stdout",
          "text": [
            "\n",
            "Distribusi Target pada Test Set:\n"
          ]
        },
        {
          "output_type": "execute_result",
          "data": {
            "text/plain": [
              "Cluster\n",
              "0    51\n",
              "3    50\n",
              "2    45\n",
              "1    37\n",
              "Name: count, dtype: int64"
            ],
            "text/html": [
              "<div>\n",
              "<style scoped>\n",
              "    .dataframe tbody tr th:only-of-type {\n",
              "        vertical-align: middle;\n",
              "    }\n",
              "\n",
              "    .dataframe tbody tr th {\n",
              "        vertical-align: top;\n",
              "    }\n",
              "\n",
              "    .dataframe thead th {\n",
              "        text-align: right;\n",
              "    }\n",
              "</style>\n",
              "<table border=\"1\" class=\"dataframe\">\n",
              "  <thead>\n",
              "    <tr style=\"text-align: right;\">\n",
              "      <th></th>\n",
              "      <th>count</th>\n",
              "    </tr>\n",
              "    <tr>\n",
              "      <th>Cluster</th>\n",
              "      <th></th>\n",
              "    </tr>\n",
              "  </thead>\n",
              "  <tbody>\n",
              "    <tr>\n",
              "      <th>0</th>\n",
              "      <td>51</td>\n",
              "    </tr>\n",
              "    <tr>\n",
              "      <th>3</th>\n",
              "      <td>50</td>\n",
              "    </tr>\n",
              "    <tr>\n",
              "      <th>2</th>\n",
              "      <td>45</td>\n",
              "    </tr>\n",
              "    <tr>\n",
              "      <th>1</th>\n",
              "      <td>37</td>\n",
              "    </tr>\n",
              "  </tbody>\n",
              "</table>\n",
              "</div><br><label><b>dtype:</b> int64</label>"
            ]
          },
          "metadata": {},
          "execution_count": 7
        }
      ]
    },
    {
      "cell_type": "code",
      "source": [
        "train_counts = y_train.value_counts()\n",
        "test_counts = y_test.value_counts()\n",
        "comparison_df = pd.DataFrame({\n",
        "    'Training Set': train_counts,\n",
        "    'Test Set': test_counts\n",
        "}).fillna(0)\n",
        "\n",
        "\n",
        "ax = comparison_df.plot(kind='bar', figsize=(10, 6), color=['skyblue', 'orange'])\n",
        "plt.title('Perbandingan Jumlah Data pada Training Set dan Test Set')\n",
        "plt.xlabel('Cluster')\n",
        "plt.ylabel('Jumlah Data')\n",
        "plt.xticks(rotation=0)\n",
        "plt.legend(title='Data Set', loc='upper right')\n",
        "\n",
        "for p in ax.patches:\n",
        "    ax.annotate(f'{int(p.get_height())}', (p.get_x() + p.get_width() / 2., p.get_height()),\n",
        "                ha='center', va='center', fontsize=10, color='black', xytext=(0, 5), textcoords='offset points')\n",
        "\n",
        "plt.tight_layout()\n",
        "plt.show()\n"
      ],
      "metadata": {
        "colab": {
          "base_uri": "https://localhost:8080/",
          "height": 607
        },
        "id": "ITfw-titTpfW",
        "outputId": "f0f1a8a2-42ad-4308-a6b5-b0ae027f1e66"
      },
      "execution_count": 8,
      "outputs": [
        {
          "output_type": "display_data",
          "data": {
            "text/plain": [
              "<Figure size 1000x600 with 1 Axes>"
            ],
            "image/png": "[encoded data removed]"
          },
          "metadata": {}
        }
      ]
    },
    {
      "cell_type": "markdown",
      "source": [
        "# **4. Membangun Model Klasifikasi**\n"
      ],
      "metadata": {
        "id": "NSoa1Ww16vXV"
      }
    },
    {
      "cell_type": "markdown",
      "source": [
        "## **a. Membangun Model Klasifikasi**"
      ],
      "metadata": {
        "id": "J8LPBBGK6yvw"
      }
    },
    {
      "cell_type": "markdown",
      "source": [
        "1. Pilih algoritma klasifikasi yang sesuai, seperti Logistic Regression, Decision Tree, Random Forest, atau K-Nearest Neighbors (KNN).\n",
        "2. Latih model menggunakan data latih."
      ],
      "metadata": {
        "id": "dy7a1qxP7AMM"
      }
    },
    {
      "cell_type": "markdown",
      "source": [
        "### Model 1: Random Forest"
      ],
      "metadata": {
        "id": "iKSgCPHnNlze"
      }
    },
    {
      "cell_type": "code",
      "source": [
        "rf_model = RandomForestClassifier(n_estimators=100, random_state=42)\n",
        "rf_model.fit(X_train, y_train)\n",
        "y_pred_rf = rf_model.predict(X_test)\n",
        "accuracy_rf = accuracy_score(y_test, y_pred_rf)\n",
        "print(f\"Akurasi Random Forest: {accuracy_rf}\")"
      ],
      "metadata": {
        "colab": {
          "base_uri": "https://localhost:8080/"
        },
        "id": "XCr4VlJL-y-E",
        "outputId": "c50175ee-02cc-4f08-a723-e0e3bdffd998"
      },
      "execution_count": 9,
      "outputs": [
        {
          "output_type": "stream",
          "name": "stdout",
          "text": [
            "Akurasi Random Forest: 1.0\n"
          ]
        }
      ]
    },
    {
      "cell_type": "markdown",
      "source": [
        "### Model 2: Logistic Regression"
      ],
      "metadata": {
        "id": "3sSwNdtlNqpE"
      }
    },
    {
      "cell_type": "code",
      "source": [
        "lr_model = LogisticRegression(random_state=42)\n",
        "lr_model.fit(X_train, y_train)\n",
        "y_pred_lr = lr_model.predict(X_test)\n",
        "accuracy_lr = accuracy_score(y_test, y_pred_lr)\n",
        "print(f\"Akurasi Logistic Regression: {accuracy_lr}\")"
      ],
      "metadata": {
        "colab": {
          "base_uri": "https://localhost:8080/"
        },
        "id": "cVbnO-YR7D3u",
        "outputId": "d0e9b94b-2304-4852-9b53-6bd9a120f167"
      },
      "execution_count": 10,
      "outputs": [
        {
          "output_type": "stream",
          "name": "stdout",
          "text": [
            "Akurasi Logistic Regression: 1.0\n"
          ]
        }
      ]
    },
    {
      "cell_type": "markdown",
      "source": [
        "## **b. Evaluasi Model Klasifikasi**"
      ],
      "metadata": {
        "id": "5vSJea_A_XsR"
      }
    },
    {
      "cell_type": "markdown",
      "source": [
        "Berikut adalah **rekomendasi** tahapannya.\n",
        "1. Lakukan prediksi menggunakan data uji.\n",
        "2. Hitung metrik evaluasi seperti Accuracy dan F1-Score (Opsional: Precision dan Recall).\n",
        "3. Buat confusion matrix untuk melihat detail prediksi benar dan salah."
      ],
      "metadata": {
        "id": "FjzMqzun_ajD"
      }
    },
    {
      "cell_type": "markdown",
      "source": [
        "### Model 1: Random Forest"
      ],
      "metadata": {
        "id": "JFTBRthTN8iA"
      }
    },
    {
      "cell_type": "code",
      "source": [
        "y_pred_rf = rf_model.predict(X_test)\n",
        "accuracy_rf = accuracy_score(y_test, y_pred_rf) * 100\n",
        "f1_rf = f1_score(y_test, y_pred_rf, average='weighted') * 100\n",
        "precision_rf = precision_score(y_test, y_pred_rf, average='weighted', zero_division=1) * 100\n",
        "recall_rf = recall_score(y_test, y_pred_rf, average='weighted', zero_division=1) * 100\n",
        "\n",
        "print(f\"Random Forest - Akurasi: {accuracy_rf:.2f}%\")\n",
        "print(f\"Random Forest - F1-Score: {f1_rf:.2f}%\")\n",
        "print(f\"Random Forest - Precision: {precision_rf:.2f}%\")\n",
        "print(f\"Random Forest - Recall: {recall_rf:.2f}%\")\n",
        "\n",
        "cm_rf = confusion_matrix(y_test, y_pred_rf)\n",
        "cm_display_rf = ConfusionMatrixDisplay(confusion_matrix=cm_rf, display_labels=rf_model.classes_)\n",
        "cm_display_rf.plot(cmap='Blues')"
      ],
      "metadata": {
        "colab": {
          "base_uri": "https://localhost:8080/",
          "height": 536
        },
        "id": "KkFfLTRHAkTH",
        "outputId": "98f09305-7172-4b4a-beb8-7dc2408e46ab"
      },
      "execution_count": 11,
      "outputs": [
        {
          "output_type": "stream",
          "name": "stdout",
          "text": [
            "Random Forest - Akurasi: 100.00%\n",
            "Random Forest - F1-Score: 100.00%\n",
            "Random Forest - Precision: 100.00%\n",
            "Random Forest - Recall: 100.00%\n"
          ]
        },
        {
          "output_type": "execute_result",
          "data": {
            "text/plain": [
              "<sklearn.metrics._plot.confusion_matrix.ConfusionMatrixDisplay at 0x78b056e77a90>"
            ]
          },
          "metadata": {},
          "execution_count": 11
        },
        {
          "output_type": "display_data",
          "data": {
            "text/plain": [
              "<Figure size 640x480 with 2 Axes>"
            ],
            "image/png": "[encoded data removed]"
          },
          "metadata": {}
        }
      ]
    },
    {
      "cell_type": "code",
      "source": [
        "report_rf = classification_report(y_test, y_pred_rf, target_names=[f'Cluster {i}' for i in range(len(rf_model.classes_))])\n",
        "print(\"Random Forest - Classification Report:\")\n",
        "print(report_rf)"
      ],
      "metadata": {
        "colab": {
          "base_uri": "https://localhost:8080/"
        },
        "id": "hAVrhK1PVpsT",
        "outputId": "64dec5e2-6e93-4458-8950-3d1753d44565"
      },
      "execution_count": 12,
      "outputs": [
        {
          "output_type": "stream",
          "name": "stdout",
          "text": [
            "Random Forest - Classification Report:\n",
            "              precision    recall  f1-score   support\n",
            "\n",
            "   Cluster 0       1.00      1.00      1.00        51\n",
            "   Cluster 1       1.00      1.00      1.00        37\n",
            "   Cluster 2       1.00      1.00      1.00        45\n",
            "   Cluster 3       1.00      1.00      1.00        50\n",
            "\n",
            "    accuracy                           1.00       183\n",
            "   macro avg       1.00      1.00      1.00       183\n",
            "weighted avg       1.00      1.00      1.00       183\n",
            "\n"
          ]
        }
      ]
    },
    {
      "cell_type": "markdown",
      "source": [
        "**Random Forest**\n",
        "- Akurasi: 100%\n",
        "\n",
        "Hasil evaluasi menunjukkan bahwa Random Forest berhasil memprediksi kelas dengan sangat baik, menghasilkan akurasi 100% pada data uji. Ini menunjukkan bahwa model ini mampu mempelajari pola dari data latih dengan sangat baik.\n",
        "\n",
        "- F1-Score: 100%\n",
        "\n",
        "Dengan F1-Score 100%, model ini memiliki keseimbangan yang sangat baik antara presisi dan recall, yang menunjukkan bahwa prediksi positif dan negatifnya sangat tepat."
      ],
      "metadata": {
        "id": "Y6GnZCI6DB7k"
      }
    },
    {
      "cell_type": "markdown",
      "source": [
        "### Model 2: Logistic Regression"
      ],
      "metadata": {
        "id": "vEArz65wOLQL"
      }
    },
    {
      "cell_type": "code",
      "source": [
        "y_pred_lr = lr_model.predict(X_test)\n",
        "accuracy_lr = accuracy_score(y_test, y_pred_lr) * 100\n",
        "f1_lr = f1_score(y_test, y_pred_lr, average='weighted') * 100\n",
        "precision_lr = precision_score(y_test, y_pred_lr, average='weighted', zero_division=1) * 100\n",
        "recall_lr = recall_score(y_test, y_pred_lr, average='weighted', zero_division=1) * 100\n",
        "\n",
        "print(f\"Logistic Regression - Akurasi: {accuracy_lr:.2f}%\")\n",
        "print(f\"Logistic Regression - F1-Score: {f1_lr:.2f}%\")\n",
        "print(f\"Logistic Regression - Precision: {precision_lr:.2f}%\")\n",
        "print(f\"Logistic Regression - Recall: {recall_lr:.2f}%\")\n",
        "\n",
        "cm_lr = confusion_matrix(y_test, y_pred_lr)\n",
        "cm_display_lr = ConfusionMatrixDisplay(confusion_matrix=cm_lr, display_labels=lr_model.classes_)\n",
        "cm_display_lr.plot(cmap='Blues')"
      ],
      "metadata": {
        "colab": {
          "base_uri": "https://localhost:8080/",
          "height": 536
        },
        "id": "b45r9v1m_u4e",
        "outputId": "a8d12c5b-41cc-4f02-c509-f48c74c50592"
      },
      "execution_count": 13,
      "outputs": [
        {
          "output_type": "stream",
          "name": "stdout",
          "text": [
            "Logistic Regression - Akurasi: 100.00%\n",
            "Logistic Regression - F1-Score: 100.00%\n",
            "Logistic Regression - Precision: 100.00%\n",
            "Logistic Regression - Recall: 100.00%\n"
          ]
        },
        {
          "output_type": "execute_result",
          "data": {
            "text/plain": [
              "<sklearn.metrics._plot.confusion_matrix.ConfusionMatrixDisplay at 0x78b054cdb220>"
            ]
          },
          "metadata": {},
          "execution_count": 13
        },
        {
          "output_type": "display_data",
          "data": {
            "text/plain": [
              "<Figure size 640x480 with 2 Axes>"
            ],
            "image/png": "[encoded data removed]"
          },
          "metadata": {}
        }
      ]
    },
    {
      "cell_type": "code",
      "source": [
        "report_lr = classification_report(y_test, y_pred_lr, target_names=[f'Cluster {i}' for i in range(len(lr_model.classes_))])\n",
        "print(\"Logistic Regression - Classification Report:\")\n",
        "print(report_lr)"
      ],
      "metadata": {
        "colab": {
          "base_uri": "https://localhost:8080/"
        },
        "id": "6FvnP_DvV-PR",
        "outputId": "be263721-135f-45b1-dfe8-769b790cc334"
      },
      "execution_count": 14,
      "outputs": [
        {
          "output_type": "stream",
          "name": "stdout",
          "text": [
            "Logistic Regression - Classification Report:\n",
            "              precision    recall  f1-score   support\n",
            "\n",
            "   Cluster 0       1.00      1.00      1.00        51\n",
            "   Cluster 1       1.00      1.00      1.00        37\n",
            "   Cluster 2       1.00      1.00      1.00        45\n",
            "   Cluster 3       1.00      1.00      1.00        50\n",
            "\n",
            "    accuracy                           1.00       183\n",
            "   macro avg       1.00      1.00      1.00       183\n",
            "weighted avg       1.00      1.00      1.00       183\n",
            "\n"
          ]
        }
      ]
    },
    {
      "cell_type": "markdown",
      "source": [
        "**Logistic Regression**\n",
        "- Akurasi: 100%\n",
        "\n",
        "Seperti halnya Random Forest, Logistic Regression juga menghasilkan akurasi 100%, yang berarti model ini juga sangat baik dalam memprediksi kelas pada data uji.\n",
        "\n",
        "- F1-Score: 100%\n",
        "\n",
        "Model Logistic Regression juga menunjukkan keseimbangan presisi dan recall yang sangat baik, dengan nilai F1-Score 100%."
      ],
      "metadata": {
        "id": "vv2LiC3zDNsK"
      }
    },
    {
      "cell_type": "markdown",
      "source": [
        "karena hasilnnya 100% semua baik Akurasi, F1-Score, Precision, dan Recall, perlu dilakukan pengecek kembali apakah terjadi overfiting pada data"
      ],
      "metadata": {
        "id": "DsIgTBe4EclU"
      }
    },
    {
      "cell_type": "code",
      "source": [
        "train_accuracy = rf_model.score(X_train, y_train)\n",
        "test_accuracy = rf_model.score(X_test, y_test)\n",
        "\n",
        "print(f\"Akurasi pada Data Latih: {train_accuracy * 100:.2f}%\")\n",
        "print(f\"Akurasi pada Data Uji: {test_accuracy * 100:.2f}%\")\n"
      ],
      "metadata": {
        "colab": {
          "base_uri": "https://localhost:8080/"
        },
        "id": "1Mog94WmD8ZM",
        "outputId": "fcf88390-736b-49ad-b49f-7c7d584db085"
      },
      "execution_count": 15,
      "outputs": [
        {
          "output_type": "stream",
          "name": "stdout",
          "text": [
            "Akurasi pada Data Latih: 100.00%\n",
            "Akurasi pada Data Uji: 100.00%\n"
          ]
        }
      ]
    },
    {
      "cell_type": "markdown",
      "source": [
        "Berdasarkan data tersebut akurasi data latih dan uji sama sama 100%/tidak ada yang lebih besar atau kecil, berarti model/data inih tidak mengalami overfiting, kemungkinan besar data yang digunakan **bener benar valid dan sesuai.**"
      ],
      "metadata": {
        "id": "iY3Ud_w4FMFz"
      }
    },
    {
      "cell_type": "markdown",
      "source": [
        "## **c. Tuning Model Klasifikasi (Optional)**"
      ],
      "metadata": {
        "id": "YaXTUsc4GAK3"
      }
    },
    {
      "cell_type": "markdown",
      "source": [
        "Gunakan GridSearchCV, RandomizedSearchCV, atau metode lainnya untuk mencari kombinasi hyperparameter terbaik"
      ],
      "metadata": {
        "id": "K4tsp57pGEiN"
      }
    },
    {
      "cell_type": "markdown",
      "source": [
        "**\"Model sudah mencapai akurasi 100% pada data latih dan uji, sehingga tuning lebih lanjut tidak diperlukan. Model ini sudah memberikan hasil terbaik dan siap digunakan.\"**"
      ],
      "metadata": {
        "id": "vijdMofsLY5i"
      }
    },
    {
      "cell_type": "markdown",
      "source": [
        "## **d. Evaluasi Model Klasifikasi setelah Tuning (Optional)**"
      ],
      "metadata": {
        "id": "eaJBQha0Lb7v"
      }
    },
    {
      "cell_type": "markdown",
      "source": [
        "Berikut adalah rekomendasi tahapannya.\n",
        "1. Gunakan model dengan hyperparameter terbaik.\n",
        "2. Hitung ulang metrik evaluasi untuk melihat apakah ada peningkatan performa."
      ],
      "metadata": {
        "id": "MN5d1hrbLojN"
      }
    },
    {
      "cell_type": "markdown",
      "source": [
        "**Pada bagian ini, kami tidak melakukan tuning model lebih lanjut menggunakan metode seperti GridSearchCV atau RandomizedSearchCV. Oleh karena itu, tidak ada perubahan pada hyperparameter model, dan evaluasi model dilakukan menggunakan model yang telah dilatih sebelumnya tanpa langkah tuning tambahan.**"
      ],
      "metadata": {
        "id": "Z-vouwwAMMrQ"
      }
    },
    {
      "cell_type": "markdown",
      "source": [
        "## **e. Analisis Hasil Evaluasi Model Klasifikasi**"
      ],
      "metadata": {
        "id": "R7Uf_8qjMSk_"
      }
    },
    {
      "cell_type": "markdown",
      "source": [
        "1. Bandingkan hasil evaluasi sebelum dan setelah tuning (jika dilakukan).\n"
      ],
      "metadata": {
        "id": "s-cxiCRPMU9w"
      }
    },
    {
      "cell_type": "markdown",
      "source": [
        "Karena Anda tidak melakukan tuning, hasil evaluasi didapatkan menggunakan model default. Untuk Logistic Regression dan Random Forest, sama sama hasilnya adalah:\n",
        "- Akurasi: 100%\n",
        "- F1-Score: 100%\n",
        "- Precision: 100%\n",
        "- Recall: 100%"
      ],
      "metadata": {
        "id": "AycsLYfNO_F9"
      }
    },
    {
      "cell_type": "markdown",
      "source": [
        "2. Identifikasi kelemahan model, seperti:\n",
        "  - Precision atau Recall rendah untuk kelas tertentu.\n",
        "    - Tidak ada kelemahan yang terlihat pada model. Dengan hasil yang sempurna (100%) untuk semua metrik, model tidak menunjukkan adanya masalah dengan precision atau recall pada kelas mana pun.\n",
        "\n",
        "  - Apakah model mengalami overfitting atau underfitting?\n",
        "    - Overfitting: Meskipun akurasi pada data latih dan uji sangat tinggi, ada potensi overfitting jika model terlalu \"terlatih\" pada data latih, tetapi tidak ada indikasi kuat overfitting dalam kasus ini karena model juga memiliki performa yang konsisten di data uji.\n",
        "      - Akurasi pada Data Latih: 100.00%\n",
        "      - Akurasi pada Data Uji: 100.00%\n",
        "\n",
        "    - Underfitting: Model tidak menunjukkan tanda-tanda underfitting, karena hasil evaluasi menunjukkan kinerja yang sangat baik dan model mampu menangani data dengan sangat baik.\n"
      ],
      "metadata": {
        "id": "R1tVhNKZNCsp"
      }
    },
    {
      "cell_type": "markdown",
      "source": [
        "3. Berikan rekomendasi tindakan lanjutan, seperti mengumpulkan data tambahan atau mencoba algoritma lain jika hasil belum memuaskan."
      ],
      "metadata": {
        "id": "xwAjAjjjNIKY"
      }
    },
    {
      "cell_type": "markdown",
      "source": [
        "- Tidak perlu tuning lebih lanjut: Hasil sudah sangat baik dengan akurasi dan metrik lainnya 100%.\n",
        "\n",
        "- Kumpulkan lebih banyak data: Menambah data dapat membantu model lebih baik dalam menggeneralisasi.\n",
        "\n",
        "- Coba algoritma lain: Jika diperlukan, eksperimen dengan algoritma lain seperti SVM atau KNN untuk perbandingan."
      ],
      "metadata": {
        "id": "P3mdFe5JOa6f"
      }
    }
  ]
}